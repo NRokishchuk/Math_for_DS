{
 "cells": [
  {
   "cell_type": "markdown",
   "id": "b4932095",
   "metadata": {},
   "source": [
    "# 1. Напишите код, моделирующий выпадение поля в рулетке (с учетом поля зеро)."
   ]
  },
  {
   "cell_type": "code",
   "execution_count": 4,
   "id": "62823272",
   "metadata": {},
   "outputs": [
    {
     "name": "stdout",
     "output_type": "stream",
     "text": [
      "1 black\n"
     ]
    }
   ],
   "source": [
    "from random import choice\n",
    "import numpy as np\n",
    "number = np.random.randint(0, 36)\n",
    "color = choice(['red', 'black'])\n",
    "if number != 0:\n",
    "    print(number, color)\n",
    "else:\n",
    "    print('Zero!')"
   ]
  },
  {
   "cell_type": "markdown",
   "id": "6d0cf9db",
   "metadata": {},
   "source": [
    "# 2. \n",
    "# 1). Напишите код, проверяющий любую из теорем сложения или умножения вероятности на примере рулетки или подбрасывания монетки.\n"
   ]
  },
  {
   "cell_type": "code",
   "execution_count": 19,
   "id": "f15e6ecb",
   "metadata": {},
   "outputs": [
    {
     "name": "stdout",
     "output_type": "stream",
     "text": [
      "519 481\n",
      "1.0\n"
     ]
    }
   ],
   "source": [
    "import random\n",
    "from random import choice\n",
    "import numpy as np\n",
    "import matplotlib.pyplot as plt\n",
    "\n",
    "\n",
    "o, r = 0, 0\n",
    "n = 1000\n",
    "for i in range(n):\n",
    "    x = np.random.uniform(0, 101)\n",
    "    if x <= 50:\n",
    "        o += 1\n",
    "    else:\n",
    "        r += 1\n",
    "print(o, r)\n",
    "print(o/n + r/n)"
   ]
  },
  {
   "cell_type": "markdown",
   "id": "0c3c35c9",
   "metadata": {},
   "source": [
    "# 2). Сгенерируйте десять выборок случайных чисел х0, …, х9.  и постройте гистограмму распределения случайной суммы  +х0+ …+ х 9. "
   ]
  },
  {
   "cell_type": "code",
   "execution_count": 20,
   "id": "39563165",
   "metadata": {},
   "outputs": [
    {
     "data": {
      "image/png": "[encoded data removed]",
      "text/plain": [
       "<Figure size 432x288 with 1 Axes>"
      ]
     },
     "metadata": {
      "needs_background": "light"
     },
     "output_type": "display_data"
    }
   ],
   "source": [
    "sum_ = []\n",
    "array_ = [0 for i in range(0, 1000)]\n",
    "for i in range(0, 9):\n",
    "    x = np.random.rand(1000)\n",
    "    sum_.append(x)\n",
    "\n",
    "for i in sum_:\n",
    "        array_ = array_ + i\n",
    "\n",
    "num_bins = 10\n",
    "plt.hist(array_, num_bins)\n",
    "plt.show()"
   ]
  },
  {
   "cell_type": "markdown",
   "id": "ae1b9fc2",
   "metadata": {},
   "source": [
    "# 3. \n",
    "# 1). Дополните код Монте-Карло последовательности независимых испытаний расчетом соответствующих вероятностей (через биномиальное распределение) и сравните результаты.\n"
   ]
  },
  {
   "cell_type": "code",
   "execution_count": 28,
   "id": "e6b3cdbc",
   "metadata": {},
   "outputs": [],
   "source": [
    "import numpy as np\n",
    "from math import factorial"
   ]
  },
  {
   "cell_type": "code",
   "execution_count": 31,
   "id": "03d880c1",
   "metadata": {},
   "outputs": [
    {
     "name": "stdout",
     "output_type": "stream",
     "text": [
      "3834 10000 0.3834\n",
      "Pn(k) =  0.375\n"
     ]
    }
   ],
   "source": [
    "k, n = 0,10000\n",
    "a = np.random.randint(0,2, n)\n",
    "b = np.random.randint(0,2, n)\n",
    "c = np.random.randint(0,2, n)\n",
    "d = np.random.randint(0,2, n)\n",
    "x = a + b + c + d\n",
    "\n",
    "for i in range(0,n):\n",
    "    if x[i] == 2:\n",
    "        k = k + 1\n",
    "\n",
    "print(k, n, k/n)\n",
    "Cn_k = factorial(4)/ (factorial(2)*factorial(4-2))\n",
    "Pn_k = Cn_k * (1/2**4)\n",
    "print(\"Pn(k) = \",Pn_k)"
   ]
  },
  {
   "cell_type": "markdown",
   "id": "48125c46",
   "metadata": {},
   "source": [
    "# 2). Повторите расчеты биномиальных коэффициентов и вероятностей k успехов в последовательности из n независимых испытаний, взяв другие значения n и k.\n"
   ]
  },
  {
   "cell_type": "code",
   "execution_count": 32,
   "id": "95a47988",
   "metadata": {},
   "outputs": [
    {
     "name": "stdout",
     "output_type": "stream",
     "text": [
      "3154 10000 0.3154\n",
      "Pn(k) =  0.3125\n"
     ]
    }
   ],
   "source": [
    "k, n = 0,10000\n",
    "a = np.random.randint(0,2, n)\n",
    "b = np.random.randint(0,2, n)\n",
    "c = np.random.randint(0,2, n)\n",
    "d = np.random.randint(0,2, n)\n",
    "e = np.random.randint(0,2, n)\n",
    "x = a + b + c + d + e\n",
    "\n",
    "for i in range(0,n):\n",
    "    if x[i] == 2:\n",
    "        k = k + 1\n",
    "\n",
    "print(k, n, k/n)\n",
    "Cn_k = factorial(5)/ (factorial(2)*factorial(5-2))\n",
    "Pn_k = Cn_k * (1/2**5)\n",
    "print(\"Pn(k) = \",Pn_k)"
   ]
  },
  {
   "cell_type": "markdown",
   "id": "c794b51d",
   "metadata": {},
   "source": [
    "# 4. (не обязательно, но желательно) Из урока по комбинаторике повторите расчеты, сгенерировав возможные варианты перестановок для других значений n и k\n"
   ]
  },
  {
   "cell_type": "code",
   "execution_count": 35,
   "id": "5f3f14a2",
   "metadata": {},
   "outputs": [],
   "source": [
    "import itertools\n",
    "from math import factorial as fact\n",
    "\n",
    "def combin_num(k, n):\n",
    "    return int(fact(n) / (fact(k) * fact(n - k)))\n",
    "\n",
    "def permut_num(k, n):\n",
    "    a = n\n",
    "    for i in range(1, k):\n",
    "        a *= (n - i)\n",
    "    return a\n",
    "\n",
    "def permut_num_1(k, n):\n",
    "    return int(fact(n) / fact(n - k))"
   ]
  },
  {
   "cell_type": "code",
   "execution_count": 36,
   "id": "2915a403",
   "metadata": {},
   "outputs": [],
   "source": [
    "k, n = 3, 8"
   ]
  },
  {
   "cell_type": "code",
   "execution_count": 37,
   "id": "e3b40a15",
   "metadata": {},
   "outputs": [
    {
     "name": "stdout",
     "output_type": "stream",
     "text": [
      "Число сочетаний = 56\n",
      "Число перестановок = 336\n",
      "Число перестановок (через факториал) = 336\n"
     ]
    }
   ],
   "source": [
    "print(f'Число сочетаний = {combin_num(k, n)}')\n",
    "print(f'Число перестановок = {permut_num(k, n)}')\n",
    "print(f'Число перестановок (через факториал) = {permut_num_1(k, n)}')"
   ]
  },
  {
   "cell_type": "code",
   "execution_count": 38,
   "id": "628e5f34",
   "metadata": {},
   "outputs": [
    {
     "name": "stdout",
     "output_type": "stream",
     "text": [
      "56\n",
      "336\n"
     ]
    }
   ],
   "source": [
    "nums = ''\n",
    "for i in range(n):\n",
    "    nums += str(i)\n",
    "\n",
    "print(len(list(itertools.combinations(nums, k))))\n",
    "print(len(list(itertools.permutations(nums, k))))"
   ]
  },
  {
   "cell_type": "markdown",
   "id": "54a58784",
   "metadata": {},
   "source": [
    "# 5. (не обязательно) Дополните код расчетом коэффициента корреляции x и y по формуле\n"
   ]
  },
  {
   "cell_type": "code",
   "execution_count": 41,
   "id": "44b18777",
   "metadata": {},
   "outputs": [],
   "source": [
    "import numpy as np\n",
    "import matplotlib.pyplot as plt\n",
    "import math"
   ]
  },
  {
   "cell_type": "code",
   "execution_count": 45,
   "id": "9dd055e4",
   "metadata": {},
   "outputs": [
    {
     "name": "stdout",
     "output_type": "stream",
     "text": [
      "0.8341044738719063 0.08005553788841759\n",
      "0.8341044738719071 0.08005553788841718\n",
      "0.9678138650609486 0.9678138650609478\n"
     ]
    },
    {
     "data": {
      "image/png": "[encoded data removed]",
      "text/plain": [
       "<Figure size 432x288 with 1 Axes>"
      ]
     },
     "metadata": {
      "needs_background": "light"
     },
     "output_type": "display_data"
    }
   ],
   "source": [
    "n = 100\n",
    "r = 0.8\n",
    "\n",
    "x = np.random.rand(n)\n",
    "y = r * x + (1 - r)*np.random.rand(n)\n",
    "\n",
    "plt.plot(x, y, 'o')\n",
    "plt.xlabel('x')\n",
    "plt.ylabel('y')\n",
    "plt.grid(True)\n",
    "\n",
    "a = (np.sum(x) * np.sum(y) - n * np.sum(x * y)) / ((np.sum(x) ** 2) - n * np.sum(x * x))\n",
    "b = (np.sum(y) - a * np.sum(x)) / n\n",
    "print(a, b)\n",
    "\n",
    "A = np.vstack([x, np.ones(len(x))]).T\n",
    "a1, b1 = np.linalg.lstsq(A, y, rcond=None)[0]\n",
    "print(a1, b1)\n",
    "\n",
    "n_range = range(n)\n",
    "x_cor = np.array([x[i] - x[j] for i in n_range for j in n_range])\n",
    "y_cor = np.array([y[i] - y[j] for i in n_range for j in n_range])\n",
    "coef = np.sum(x_cor * y_cor) / (math.sqrt(np.sum(x_cor * x_cor) * np.sum(y_cor * y_cor)))\n",
    "\n",
    "coef_1 = np.corrcoef(x, y)\n",
    "print(coef, coef_1[0][1])\n",
    "\n",
    "plt.plot([0, 1], [b, a + b])\n",
    "plt.show()"
   ]
  }
 ],
 "metadata": {
  "kernelspec": {
   "display_name": "Python 3",
   "language": "python",
   "name": "python3"
  },
  "language_info": {
   "codemirror_mode": {
    "name": "ipython",
    "version": 3
   },
   "file_extension": ".py",
   "mimetype": "text/x-python",
   "name": "python",
   "nbconvert_exporter": "python",
   "pygments_lexer": "ipython3",
   "version": "3.8.8"
  }
 },
 "nbformat": 4,
 "nbformat_minor": 5
}
