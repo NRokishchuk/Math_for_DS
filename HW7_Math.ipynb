{
 "cells": [
  {
   "cell_type": "markdown",
   "id": "d26c1af5",
   "metadata": {},
   "source": [
    "__5.1.__\n",
    "Вектор – это частный случай матрицы 1хN и Nх1. Повторите материал для векторов, уделяя особое внимание умножению A∙B.\n",
    "Вычислите, по возможности не используя программирование: (5E)-1 где Е – единичная матрица размера 5х5."
   ]
  },
  {
   "cell_type": "markdown",
   "id": "91e973a9",
   "metadata": {},
   "source": [
    "__Решение:__\n",
    "Исходя из определения и свойств единичной и обратной матрицы: пусть $a = 5\\cdot E$, тогда $b = (5 \\cdot E)^{-1}$ такова, что $a\\cdot b = E$, т.е $b = \\frac{1}{5}\\cdot E$"
   ]
  },
  {
   "cell_type": "code",
   "execution_count": 26,
   "id": "1c61de39",
   "metadata": {},
   "outputs": [],
   "source": [
    "import numpy as np\n",
    "from numpy.linalg import inv, det, matrix_rank\n",
    "import scipy \n",
    "import scipy.linalg"
   ]
  },
  {
   "cell_type": "code",
   "execution_count": 2,
   "id": "37e9729a",
   "metadata": {},
   "outputs": [
    {
     "name": "stdout",
     "output_type": "stream",
     "text": [
      "[[ 0.2  0.   0.   0.   0. ]\n",
      " [ 0.   0.2  0.   0.   0. ]\n",
      " [ 0.   0.   0.2  0.   0. ]\n",
      " [-0.  -0.  -0.   0.2 -0. ]\n",
      " [ 0.   0.   0.   0.   0.2]]\n"
     ]
    }
   ],
   "source": [
    "Е = 5*np.identity(5)\n",
    "print(inv(Е))"
   ]
  },
  {
   "cell_type": "markdown",
   "id": "663f6ba9",
   "metadata": {},
   "source": [
    "__5.2.__\n",
    "Вычислите определитель:[[1,2,3],[4,0,6],[7,8,9]]"
   ]
  },
  {
   "cell_type": "code",
   "execution_count": 5,
   "id": "7f54066f",
   "metadata": {},
   "outputs": [
    {
     "data": {
      "text/plain": [
       "59.999999999999986"
      ]
     },
     "execution_count": 5,
     "metadata": {},
     "output_type": "execute_result"
    }
   ],
   "source": [
    "m = np.array([[1,2,3],[4,0,6],[7,8,9]]) \n",
    "det(m)"
   ]
  },
  {
   "cell_type": "markdown",
   "id": "e45d94a7",
   "metadata": {},
   "source": [
    "__5.3.1.__ Вычислите матрицу, обратную данной: [[1,2,3],[4,0,6],[7,8,9]]\n"
   ]
  },
  {
   "cell_type": "code",
   "execution_count": 7,
   "id": "7a37d2a3",
   "metadata": {},
   "outputs": [
    {
     "name": "stdout",
     "output_type": "stream",
     "text": [
      "[[-0.8         0.1         0.2       ]\n",
      " [ 0.1        -0.2         0.1       ]\n",
      " [ 0.53333333  0.1        -0.13333333]]\n"
     ]
    }
   ],
   "source": [
    "m = np.array([[1,2,3],[4,0,6],[7,8,9]]) \n",
    "print(inv(m))"
   ]
  },
  {
   "cell_type": "markdown",
   "id": "c7c9ee8f",
   "metadata": {},
   "source": [
    "__5.3.2.__ Приведите пример матрицы 4х4, ранг которой равен 1.\n",
    "\n",
    "Все строки представляют собой линейно зависимые"
   ]
  },
  {
   "cell_type": "code",
   "execution_count": 9,
   "id": "0e0d0732",
   "metadata": {},
   "outputs": [
    {
     "data": {
      "text/plain": [
       "(matrix([[ 1,  2,  3,  4],\n",
       "         [ 2,  4,  6,  8],\n",
       "         [ 3,  6,  9, 12],\n",
       "         [10, 20, 30, 40]]),\n",
       " 1)"
      ]
     },
     "execution_count": 9,
     "metadata": {},
     "output_type": "execute_result"
    }
   ],
   "source": [
    "a = np.matrix([[1, 2, 3, 4], [2, 4, 6, 8], [3, 6, 9, 12], [10, 20, 30, 40]])\n",
    "a, np.linalg.matrix_rank(a)"
   ]
  },
  {
   "cell_type": "markdown",
   "id": "1a44c239",
   "metadata": {},
   "source": [
    "__5.4.__\n",
    "Вычислите скалярное произведение двух векторов:  \n",
    "(1, 5)  и  (2, 8)\n"
   ]
  },
  {
   "cell_type": "code",
   "execution_count": 11,
   "id": "1a831f49",
   "metadata": {},
   "outputs": [
    {
     "data": {
      "text/plain": [
       "42"
      ]
     },
     "execution_count": 11,
     "metadata": {},
     "output_type": "execute_result"
    }
   ],
   "source": [
    "a = np.array([1,5]) \n",
    "b = np.array([2,8])\n",
    "np.inner(a, b)"
   ]
  },
  {
   "cell_type": "markdown",
   "id": "5a00fa2c",
   "metadata": {},
   "source": [
    "__5.5.__ (1, 5, 0), (2, 8, 7) и (7, 1.5, 3) Вычислите смешанное произведение трех векторов:\n"
   ]
  },
  {
   "cell_type": "code",
   "execution_count": 13,
   "id": "121bd3c1",
   "metadata": {},
   "outputs": [
    {
     "data": {
      "text/plain": [
       "228.5"
      ]
     },
     "execution_count": 13,
     "metadata": {},
     "output_type": "execute_result"
    }
   ],
   "source": [
    "a = np.array([1,5,0]) \n",
    "b = np.array([2,8,7])\n",
    "c = np.array([7,1.5,3])\n",
    "np.inner(np.cross(a,b), c)"
   ]
  },
  {
   "cell_type": "markdown",
   "id": "48c5f02e",
   "metadata": {},
   "source": [
    "__6.1.__ Решите линейную систему:\n"
   ]
  },
  {
   "cell_type": "code",
   "execution_count": 15,
   "id": "8e3ee121",
   "metadata": {},
   "outputs": [
    {
     "data": {
      "text/plain": [
       "array([-9.2       ,  0.9       ,  6.46666667])"
      ]
     },
     "execution_count": 15,
     "metadata": {},
     "output_type": "execute_result"
    }
   ],
   "source": [
    "A = np.array([[1, 2, 3], [4, 0, 6], [7, 8, 9]])\n",
    "B = np.array([12, 2, 1])\n",
    "np.linalg.solve(A, B)"
   ]
  },
  {
   "cell_type": "markdown",
   "id": "a730e7a9",
   "metadata": {},
   "source": [
    "__6.2.__ Найдите псевдорешение:\n"
   ]
  },
  {
   "cell_type": "code",
   "execution_count": 28,
   "id": "f24c12f4",
   "metadata": {},
   "outputs": [
    {
     "data": {
      "text/plain": [
       "(matrix([[ 1,  2, -1],\n",
       "         [ 3, -4,  0],\n",
       "         [ 8, -5,  2],\n",
       "         [ 2,  0, -5],\n",
       "         [11,  4, -7]]),\n",
       " matrix([[ 1],\n",
       "         [ 7],\n",
       "         [12],\n",
       "         [ 7],\n",
       "         [15]]))"
      ]
     },
     "execution_count": 28,
     "metadata": {},
     "output_type": "execute_result"
    }
   ],
   "source": [
    "a = np.matrix([[1, 2, -1],[3, -4, 0],[8, -5, 2],[2, 0, -5],[11, 4, -7]])\n",
    "b = np.matrix([1, 7, 12, 7, 15]).T\n",
    "a, b"
   ]
  },
  {
   "cell_type": "code",
   "execution_count": 30,
   "id": "439c7819",
   "metadata": {},
   "outputs": [
    {
     "data": {
      "text/plain": [
       "(matrix([[ 1.13919353],\n",
       "         [-0.90498444],\n",
       "         [-0.9009803 ]]),\n",
       " matrix([[0.71523211]]),\n",
       " 3,\n",
       " array([15.2817306 ,  9.59852942,  3.65197794]))"
      ]
     },
     "execution_count": 30,
     "metadata": {},
     "output_type": "execute_result"
    }
   ],
   "source": [
    "np.linalg.lstsq(a, b,rcond=None )"
   ]
  },
  {
   "cell_type": "markdown",
   "id": "fc86ad02",
   "metadata": {},
   "source": [
    "__6.3.__ Сколько решений имеет линейная система:\n",
    "Если ноль – то измените вектор правой части так, чтобы система стала совместной, и решите ее. "
   ]
  },
  {
   "cell_type": "code",
   "execution_count": 21,
   "id": "5f98b6e6",
   "metadata": {},
   "outputs": [
    {
     "data": {
      "text/plain": [
       "(2, 1)"
      ]
     },
     "execution_count": 21,
     "metadata": {},
     "output_type": "execute_result"
    }
   ],
   "source": [
    "A = np.array([[1, 2, 3], [4, 5, 6], [7, 8, 9]])\n",
    "B = np.array([12, 2, 1])\n",
    "np.linalg.matrix_rank(A, 0.0001), np.linalg.matrix_rank(B, 0.0001)"
   ]
  },
  {
   "cell_type": "markdown",
   "id": "3cc99721",
   "metadata": {},
   "source": [
    "__6.4.__ Вычислите LU-разложение матрицы:\n"
   ]
  },
  {
   "cell_type": "code",
   "execution_count": 27,
   "id": "7d69aef8",
   "metadata": {},
   "outputs": [
    {
     "name": "stdout",
     "output_type": "stream",
     "text": [
      "[[0. 1. 0.]\n",
      " [0. 0. 1.]\n",
      " [1. 0. 0.]]\n",
      "[[ 1.    0.    0.  ]\n",
      " [ 0.25  1.    0.  ]\n",
      " [ 0.5  -0.4   1.  ]]\n",
      "[[  4.    28.    73.  ]\n",
      " [  0.    -5.   -15.25]\n",
      " [  0.     0.   -21.6 ]]\n",
      "[[0. 0. 0.]\n",
      " [0. 0. 0.]\n",
      " [0. 0. 0.]]\n"
     ]
    }
   ],
   "source": [
    "A = np.array([ [1, 2, 3], [2, 16, 21], [4, 28, 73] ])\n",
    "P, L, U = scipy.linalg.lu(A)\n",
    "print(P)\n",
    "print(L)\n",
    "print(U)\n",
    "print(np.dot(P.transpose(), A) - np.dot(L, U))"
   ]
  }
 ],
 "metadata": {
  "kernelspec": {
   "display_name": "Python 3",
   "language": "python",
   "name": "python3"
  },
  "language_info": {
   "codemirror_mode": {
    "name": "ipython",
    "version": 3
   },
   "file_extension": ".py",
   "mimetype": "text/x-python",
   "name": "python",
   "nbconvert_exporter": "python",
   "pygments_lexer": "ipython3",
   "version": "3.8.8"
  }
 },
 "nbformat": 4,
 "nbformat_minor": 5
}
