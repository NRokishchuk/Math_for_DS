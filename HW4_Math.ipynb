{
 "cells": [
  {
   "cell_type": "markdown",
   "id": "f3cd9572",
   "metadata": {},
   "source": [
    "# 1. Задание (на листочке)\n",
    "Решите уравнение: \n",
    "sin(x)/x=0.\\\n",
    "Исключаем x = 0 \\\n",
    "Выражение упрощается до:\\\n",
    "sin(x)=0.\\\n",
    "x = πn, n≠0, n ∈ Z"
   ]
  },
  {
   "cell_type": "code",
   "execution_count": 1,
   "id": "82f2e585",
   "metadata": {},
   "outputs": [],
   "source": [
    "import numpy as np\n",
    "import matplotlib.pyplot as plt"
   ]
  },
  {
   "cell_type": "code",
   "execution_count": 3,
   "id": "876d95ad",
   "metadata": {
    "scrolled": true
   },
   "outputs": [
    {
     "data": {
      "image/png": "[encoded data removed]",
      "text/plain": [
       "<Figure size 432x288 with 1 Axes>"
      ]
     },
     "metadata": {
      "needs_background": "light"
     },
     "output_type": "display_data"
    }
   ],
   "source": [
    "start, end, n = -np.pi*10, np.pi*10, 501\n",
    "x = np.linspace(start, end, n)\n",
    "plt.plot(x, np.sin(x) / x)\n",
    "plt.plot([start, end], [0, 0], color='r', linestyle='--', linewidth=0.5)\n",
    "for i in np.arange(start, end, np.pi): \n",
    "    if i != 0: # исключаем ноль\n",
    "        plt.plot([i, i], [0, 1], color='b', linestyle=':', linewidth=0.5)\n",
    "plt.show()"
   ]
  },
  {
   "cell_type": "markdown",
   "id": "e34a62e4",
   "metadata": {},
   "source": [
    "# 2. Задание (на листочке)\n",
    "\n",
    "Даны три прямые y=k1*x+b1, y=k2*x+b2,, y=k3*x+b3. Как узнать, пересекаются они в одной точке или нет? \\\n",
    "Решение:\n",
    "Допустим, прямые пересекаются в точке М(х0, у0). Подставим координаты точки и приравняем уравнения 1 и 2, 1 и 3:\n",
    "\n",
    "k1x0+b1 = k2x0+b2\\\n",
    "k1x0+b1 = k3x0+b3\n",
    "\n",
    "x0 = (b2-b1)/(k1-k2)\\\n",
    "x0 = (b3-b1)/(k1-k3)\n",
    "\n",
    "(b2-b1)/(k1-k2) = (b3-b1)/(k1-k3)\n",
    "\n",
    "Следовательно 3 прямые пересекаются, если:\n",
    "\n",
    "(b2-b1)/(k1-k2) = (b3-b1)/(k1-k3)\\\n",
    "k1 != k2 !=k3"
   ]
  },
  {
   "cell_type": "markdown",
   "id": "68b907ad",
   "metadata": {},
   "source": [
    "# 3. Задание (в программе или на листочке)\n",
    "На листе тетради «в линейку» (расстояние между линиями равно а) лежит игла (длиной b). Координаты нижней точки иглы (х,у), игла лежит под углом alfa. Пересекает ли игла линию или нет?\n",
    "\n",
    "Если alpha = 0, то игла не пересекает линию\\\n",
    "Если alpha = pi/2 и b>=a, то игла пересекает линию\\\n",
    "Если b*sin(alpha) >= a, то игла пересекает линию (длина катета, параллельного y)\\\n",
    "Если y%a + b*sin(alfa) >=a, то игла пересекает линию\n"
   ]
  },
  {
   "cell_type": "markdown",
   "id": "5e84e478",
   "metadata": {},
   "source": [
    "**17.6.2. Найти угол альфа между прямыми**\\\n",
    "4y-3x+12=0\\\n",
    "7y+x-14=0\n",
    "\n",
    "y=(3x-12)/4, k1 = 3\\\n",
    "y=(14-x)/7, k2 = -1\n",
    "\n",
    "tg α=(k1-k2)/1+k1k2=(3-(-1))/1+3*(-1)=-2\\\n",
    "по таблице тангенсов\\\n",
    "α ~ 116° "
   ]
  },
  {
   "cell_type": "markdown",
   "id": "d137ee35",
   "metadata": {},
   "source": [
    "**17.6.4. Найти угол альфа между прямыми**\n",
    "\n",
    "x=√2\\\n",
    "x=√-3\n",
    "\n",
    "x-√2=0\\\n",
    "x-√-3=0\\\n",
    "tg α =1-1/1+1*1=0\\\n",
    "α= 0 или 180"
   ]
  },
  {
   "cell_type": "markdown",
   "id": "e8720fc2",
   "metadata": {},
   "source": [
    "**Выяснить тип кривых второго порядка, порожденных следующими уравнениями**\\\n",
    "**17.6.5. y^2-2x-2y-5=0**\n",
    "\n",
    "0⋅x^2+1⋅y^2+0⋅xy−2⋅x−2⋅y−5=0\\\n",
    "−2x+y2−2y=5\\\n",
    "Разделим обе части ур-ния на (y^2 - 2*x - 2*y)/x\\\n",
    "x = 5 / ((y^2 - 2*x - 2*y)/x)\\\n",
    "x = -5/2 + y^2/2 - y\\\n",
    "5/2=y^2/(2 - y)-x  - уравнение параболы\n",
    "\n"
   ]
  },
  {
   "cell_type": "markdown",
   "id": "50f504e1",
   "metadata": {},
   "source": [
    "**17.6.6. 3x^2+5y^2+12x-30y+42=0**\n",
    "\n",
    "3x^2+12x = 3(x^2+4x) = 3(x^2+4x+4-4) = 3(x+2)^2 - 12\\\n",
    "5y^2-30y = 5(y^2-6y) = 5(y^2-6y + 9-9) = 5(y-3)^2 - 45\\\n",
    "3(x+2)^2 - 12 + 5(y-3)^2 - 45 + 42 = 0\\\n",
    "3(x+2)^2 + 5(y-3)^2 = 15\\\n",
    "3(x+2)^2/5 + (y-3)^2/3 = 1 - уравнение эллипса"
   ]
  },
  {
   "cell_type": "markdown",
   "id": "840c7ab4",
   "metadata": {},
   "source": [
    "**17.6.7. x^2-y^2+6y-7=0**\n",
    "\n",
    "-y^2+6y = -(y^2+2*3y +9 -9)=-(y-3)^2 + 9\\\n",
    "2x^2 - (y-3)^2 + 9 - 7 = 0\\\n",
    "2x^2 - (y-3)^2 = -2\\\n",
    "(y-3)^2/2 -x^2 = 1 - уравнение гиперболы"
   ]
  },
  {
   "cell_type": "markdown",
   "id": "7c8670b2",
   "metadata": {},
   "source": [
    "**17.6.8. 2x^2-3y^2-28x-42y-55=0**\n",
    "\n",
    "2⋅x^2−28x = 2(x^2 - 14x +49 -49) = 2(x-7)^2 -98\\\n",
    "3y^2-42y = 3(y^2 - 14y +49 - 49) = 3(y - 7)^2 - 147\\\n",
    "2(x-7)^2 -98 + 3(y - 7)^2 - 147 - 55 = 0\\\n",
    "2(x-7)^2 + 3(y - 7)^2  = 300\\\n",
    "(x-7)^2/300 + (y - 7)^2/100  = 1 - уравнение эллипса"
   ]
  }
 ],
 "metadata": {
  "kernelspec": {
   "display_name": "Python 3",
   "language": "python",
   "name": "python3"
  },
  "language_info": {
   "codemirror_mode": {
    "name": "ipython",
    "version": 3
   },
   "file_extension": ".py",
   "mimetype": "text/x-python",
   "name": "python",
   "nbconvert_exporter": "python",
   "pygments_lexer": "ipython3",
   "version": "3.8.8"
  }
 },
 "nbformat": 4,
 "nbformat_minor": 5
}
